{
  "nbformat": 4,
  "nbformat_minor": 0,
  "metadata": {
    "colab": {
      "name": "assigment12.ipynb",
      "provenance": [],
      "mount_file_id": "https://github.com/cristinalestari/assigment10/blob/main/assigment12.ipynb",
      "authorship_tag": "ABX9TyMaHdmtR6UuxY+cB0NcW7Ke",
      "include_colab_link": true
    },
    "kernelspec": {
      "name": "python3",
      "display_name": "Python 3"
    }
  },
  "cells": [
    {
      "cell_type": "markdown",
      "metadata": {
        "id": "view-in-github",
        "colab_type": "text"
      },
      "source": [
        "<a href=\"https://colab.research.google.com/github/cristinalestari/assigment10/blob/main/assigment12.ipynb\" target=\"_parent\"><img src=\"https://colab.research.google.com/assets/colab-badge.svg\" alt=\"Open In Colab\"/></a>"
      ]
    },
    {
      "cell_type": "markdown",
      "metadata": {
        "id": "n9gyiX9XbYbS"
      },
      "source": [
        "Nama: Cristina Lestari \\\r\n",
        "NIM: 1101190442"
      ]
    },
    {
      "cell_type": "code",
      "metadata": {
        "id": "_1KwV-ymG-bP"
      },
      "source": [
        "import numpy as np"
      ],
      "execution_count": 1,
      "outputs": []
    },
    {
      "cell_type": "code",
      "metadata": {
        "id": "rWLOlKJHYaAt"
      },
      "source": [
        "def plc231 (d,fc,area,ht,hr):\r\n",
        "  #menghitung c1 dan c2 berdasarkan fc\r\n",
        "  if fc in range(400,1500):\r\n",
        "    c1=69.55\r\n",
        "    c2=26.16\r\n",
        "  elif fc in range(1500,2000):\r\n",
        "    c1=46.3\r\n",
        "    c2=33.9\r\n",
        "\r\n",
        "  #menghitung a(hr)\r\n",
        "  ahr=(1.1*np.log10(fc)-0.7)*hr - (1.56*np.log10(fc)-0.8)\r\n",
        "\r\n",
        "  #menghitung cm\r\n",
        "  if area==\"urban\":\r\n",
        "    cm=0\r\n",
        "  elif area==\"suburban\":\r\n",
        "    cm=-2*(np.log10(fc/28)**2)-5.4\r\n",
        "  elif area==\"open\":\r\n",
        "    cm=-4.78*(np.log10(fc)**2)+18.33*np.log(fc)-40.94 \r\n",
        "\r\n",
        "  #menghitung pathloss\r\n",
        "  Lp = c1 + c2*np.log10(fc) - 13.83*np.log10(ht) - ahr + (44.9 - 6.55*np.log10(hr))*np.log10(d) + cm\r\n",
        "\r\n",
        "  return Lp"
      ],
      "execution_count": 2,
      "outputs": []
    },
    {
      "cell_type": "code",
      "metadata": {
        "id": "gCLWRpBOZnBW",
        "outputId": "aa500382-a839-4eec-9ebd-9797725f3782",
        "colab": {
          "base_uri": "https://localhost:8080/"
        }
      },
      "source": [
        "#parameter : (jarak, frekuensi, tipe area(urban,suburban,open), tinggi antena pemancar(m), tinggi antena penerima(m))\r\n",
        "pathlossc231 = plc231(10, 1200, \"urban\", 100, 20)\r\n",
        "print(\"Pathloss dalam dB : \",pathlossc231,\" dB\")"
      ],
      "execution_count": 3,
      "outputs": [
        {
          "output_type": "stream",
          "text": [
            "Pathloss dalam dB :  109.08117025579332  dB\n"
          ],
          "name": "stdout"
        }
      ]
    },
    {
      "cell_type": "code",
      "metadata": {
        "id": "XyHLwZdVaNMd",
        "outputId": "b4174c2f-d77e-4e8b-e16e-dce64ee3e7f6",
        "colab": {
          "base_uri": "https://localhost:8080/"
        }
      },
      "source": [
        "pathlossc231 = plc231(15, 1700, \"suburban\", 150, 30)\r\n",
        "print(\"Pathloss dalam dB : \",pathlossc231,\" dB\")"
      ],
      "execution_count": 4,
      "outputs": [
        {
          "output_type": "stream",
          "text": [
            "Pathloss dalam dB :  74.01895442309983  dB\n"
          ],
          "name": "stdout"
        }
      ]
    },
    {
      "cell_type": "code",
      "metadata": {
        "id": "L7En-0ogbL1v",
        "outputId": "c206b889-d50b-4c83-9924-2086daec5583",
        "colab": {
          "base_uri": "https://localhost:8080/"
        }
      },
      "source": [
        "pathlossc231 = plc231(15, 1800, \"open\", 200, 30)\r\n",
        "print(\"Pathloss dalam dB : \",pathlossc231,\" dB\")"
      ],
      "execution_count": 5,
      "outputs": [
        {
          "output_type": "stream",
          "text": [
            "Pathloss dalam dB :  129.91295472587836  dB\n"
          ],
          "name": "stdout"
        }
      ]
    }
  ]
}