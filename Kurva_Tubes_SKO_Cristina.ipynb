{
  "nbformat": 4,
  "nbformat_minor": 0,
  "metadata": {
    "colab": {
      "name": "Kurva Tubes SKO Cristina",
      "provenance": [],
      "authorship_tag": "ABX9TyMw/w9h2ihN+n+dKLTnxeJM",
      "include_colab_link": true
    },
    "kernelspec": {
      "name": "python3",
      "display_name": "Python 3"
    },
    "language_info": {
      "name": "python"
    }
  },
  "cells": [
    {
      "cell_type": "markdown",
      "metadata": {
        "id": "view-in-github",
        "colab_type": "text"
      },
      "source": [
        "<a href=\"https://colab.research.google.com/github/cristinalestari/assignment/blob/main/Kurva_Tubes_SKO_Cristina.ipynb\" target=\"_parent\"><img src=\"https://colab.research.google.com/assets/colab-badge.svg\" alt=\"Open In Colab\"/></a>"
      ]
    },
    {
      "cell_type": "markdown",
      "source": [
        "# Tubes SKO\n",
        "\n",
        "**Cristina Lestari (1101190442)**"
      ],
      "metadata": {
        "id": "Vh0ePSorcBG9"
      }
    },
    {
      "cell_type": "code",
      "execution_count": 1,
      "metadata": {
        "id": "fls6GauLXJ-v"
      },
      "outputs": [],
      "source": [
        "import numpy as np\n",
        "import matplotlib.pyplot as plt\n",
        "from math import log10, sqrt"
      ]
    },
    {
      "cell_type": "code",
      "source": [
        "##Redaman kanal\n",
        "L = np.arange (1,12,1) #km\n",
        "L_sp = 0.5 #nm\n",
        "D = 0.003 #s/nm.km\n",
        "hspl = 2 #km\n",
        "ms = 3 #dB"
      ],
      "metadata": {
        "id": "Xy-fdqQ7XMrN"
      },
      "execution_count": 2,
      "outputs": []
    },
    {
      "cell_type": "code",
      "source": [
        "ptx = 3 #dBm\n",
        "ptx_db = 0 #mw\n",
        "t_tx = 2e-13 #s\n",
        "mod_NRZ = 0.7 #NRZ\n",
        "mod_RZ = 0.35 #RZ\n",
        "Br = 1e6 #2.5Gbps\n",
        "tb = 1/Br #s"
      ],
      "metadata": {
        "id": "AG0LmB2lX_GX"
      },
      "execution_count": 3,
      "outputs": []
    },
    {
      "cell_type": "code",
      "source": [
        "sensitivitas = -28 #dBm\n",
        "t_rx = 2e-13 #ps\n",
        "n_c = 2\n",
        "alpha_c = 1 #1dB/titik\n",
        "n_sp = (L/hspl)-1\n",
        "alpha_sp = 0.3 #dB/titik\n",
        "disp_m = 7e-12 #s/km.nm\n",
        "alpha_f = 0.3 #dB/km"
      ],
      "metadata": {
        "id": "uRmAITMUZGIw"
      },
      "execution_count": 4,
      "outputs": []
    },
    {
      "cell_type": "markdown",
      "source": [
        "# Kurva LPB"
      ],
      "metadata": {
        "id": "vma-fKtOalvN"
      }
    },
    {
      "cell_type": "code",
      "source": [
        "alpha_t = n_c*alpha_c+n_sp*alpha_sp+L*alpha_f+ms\n",
        "print(\"Redaman Kabel \",alpha_t, \"dB\")"
      ],
      "metadata": {
        "colab": {
          "base_uri": "https://localhost:8080/"
        },
        "id": "n6x8TwsqZaO2",
        "outputId": "e81c9ce0-3771-458a-fa09-3b7a960c48ff"
      },
      "execution_count": 9,
      "outputs": [
        {
          "output_type": "stream",
          "name": "stdout",
          "text": [
            "Redaman Kabel  [5.15 5.6  6.05 6.5  6.95 7.4  7.85 8.3  8.75 9.2  9.65] dB\n"
          ]
        }
      ]
    },
    {
      "cell_type": "code",
      "source": [
        "Prx = ptx_db-alpha_t"
      ],
      "metadata": {
        "id": "GuPn_8AGZgiO"
      },
      "execution_count": 10,
      "outputs": []
    },
    {
      "cell_type": "code",
      "source": [
        "Prx"
      ],
      "metadata": {
        "colab": {
          "base_uri": "https://localhost:8080/"
        },
        "id": "HBsER4tQZjYG",
        "outputId": "dce4e111-d969-4358-b61b-b7ad97925e15"
      },
      "execution_count": 11,
      "outputs": [
        {
          "output_type": "execute_result",
          "data": {
            "text/plain": [
              "array([-5.15, -5.6 , -6.05, -6.5 , -6.95, -7.4 , -7.85, -8.3 , -8.75,\n",
              "       -9.2 , -9.65])"
            ]
          },
          "metadata": {},
          "execution_count": 11
        }
      ]
    },
    {
      "cell_type": "code",
      "source": [
        "plt.plot(L,Prx)\n",
        "plt.xlabel(\"Jarak (km)\")\n",
        "plt.ylabel(\"Daya terima (dBm)\")\n",
        "plt.title(\"Kurva LPB\")"
      ],
      "metadata": {
        "colab": {
          "base_uri": "https://localhost:8080/",
          "height": 312
        },
        "id": "yslGVb0YZkSS",
        "outputId": "55201e55-fc52-40ef-bac6-74b06d440693"
      },
      "execution_count": 12,
      "outputs": [
        {
          "output_type": "execute_result",
          "data": {
            "text/plain": [
              "Text(0.5, 1.0, 'Kurva LPB')"
            ]
          },
          "metadata": {},
          "execution_count": 12
        },
        {
          "output_type": "display_data",
          "data": {
            "image/png": "[encoded data removed]",
            "text/plain": [
              "<Figure size 432x288 with 1 Axes>"
            ]
          },
          "metadata": {
            "needs_background": "light"
          }
        }
      ]
    },
    {
      "cell_type": "markdown",
      "source": [
        "Kesimpulan: Semakin jauh jarak, semakin kecil daya diterima"
      ],
      "metadata": {
        "id": "EpZVeAFEaPkG"
      }
    },
    {
      "cell_type": "markdown",
      "source": [
        "# Kurva RTB"
      ],
      "metadata": {
        "id": "s2HYUFjiaqdb"
      }
    },
    {
      "cell_type": "code",
      "source": [
        "t_wg = 0\n",
        "t_mod = 0\n",
        "t_mat = D*L*L_sp\n",
        "t_system = np.sqrt(t_rx**2+t_mat**2+t_mod**t_wg**2+t_rx**2)"
      ],
      "metadata": {
        "id": "_-hgC7nuabuJ"
      },
      "execution_count": 13,
      "outputs": []
    },
    {
      "cell_type": "code",
      "source": [
        "plt.plot(L,t_system)\n",
        "plt.xlabel(\"Jarak (km)\")\n",
        "plt.ylabel(\"Dispersi sistem (s)\")\n",
        "plt.title(\"Kurva RTB\")"
      ],
      "metadata": {
        "colab": {
          "base_uri": "https://localhost:8080/",
          "height": 312
        },
        "id": "c4Dw5ukXZ4TZ",
        "outputId": "262baa9c-3a49-46a8-ea64-06be03c322b9"
      },
      "execution_count": 14,
      "outputs": [
        {
          "output_type": "execute_result",
          "data": {
            "text/plain": [
              "Text(0.5, 1.0, 'Kurva RTB')"
            ]
          },
          "metadata": {},
          "execution_count": 14
        },
        {
          "output_type": "display_data",
          "data": {
            "image/png": "[encoded data removed]",
            "text/plain": [
              "<Figure size 432x288 with 1 Axes>"
            ]
          },
          "metadata": {
            "needs_background": "light"
          }
        }
      ]
    },
    {
      "cell_type": "markdown",
      "source": [
        "Kesimpulan: Semakin jauh jarak, semakin besar daya transmisi"
      ],
      "metadata": {
        "id": "-PKMtLOgbtP3"
      }
    }
  ]
}