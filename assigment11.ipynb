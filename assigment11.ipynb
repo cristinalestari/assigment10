{
  "nbformat": 4,
  "nbformat_minor": 0,
  "metadata": {
    "colab": {
      "name": "assigment11.ipynb",
      "provenance": [],
      "mount_file_id": "12FWG0DyMgrlosB4xc1xCQLZmz8qj51Tw",
      "authorship_tag": "ABX9TyP9AgPIz7PDSwllpOEDufyK",
      "include_colab_link": true
    },
    "kernelspec": {
      "name": "python3",
      "display_name": "Python 3"
    }
  },
  "cells": [
    {
      "cell_type": "markdown",
      "metadata": {
        "id": "view-in-github",
        "colab_type": "text"
      },
      "source": [
        "<a href=\"https://colab.research.google.com/github/cristinalestari/assigment10/blob/main/assigment11.ipynb\" target=\"_parent\"><img src=\"https://colab.research.google.com/assets/colab-badge.svg\" alt=\"Open In Colab\"/></a>"
      ]
    },
    {
      "cell_type": "code",
      "metadata": {
        "colab": {
          "base_uri": "https://localhost:8080/"
        },
        "id": "MPyxpyvGdRqD",
        "outputId": "4200d48a-52df-4e57-ef4a-831a45f8ee3e"
      },
      "source": [
        "from google.colab import drive\n",
        "drive.mount('/content/drive')"
      ],
      "execution_count": 1,
      "outputs": [
        {
          "output_type": "stream",
          "text": [
            "Drive already mounted at /content/drive; to attempt to forcibly remount, call drive.mount(\"/content/drive\", force_remount=True).\n"
          ],
          "name": "stdout"
        }
      ]
    },
    {
      "cell_type": "code",
      "metadata": {
        "colab": {
          "base_uri": "https://localhost:8080/"
        },
        "id": "z58NXNqviBqI",
        "outputId": "53374bb7-2e67-4b2c-eb6d-31b67c794737"
      },
      "source": [
        "cd /content/drive/MyDrive/Colab Notebooks"
      ],
      "execution_count": 1,
      "outputs": [
        {
          "output_type": "stream",
          "text": [
            "/content/drive/MyDrive/Colab Notebooks\n"
          ],
          "name": "stdout"
        }
      ]
    },
    {
      "cell_type": "code",
      "metadata": {
        "colab": {
          "base_uri": "https://localhost:8080/"
        },
        "id": "fQl9zu4Fm8yF",
        "outputId": "98f3cdbb-089b-448d-96ea-51e306863be9"
      },
      "source": [
        "ls"
      ],
      "execution_count": 2,
      "outputs": [
        {
          "output_type": "stream",
          "text": [
            "assigment10.ipynb  \u001b[0m\u001b[01;34mGMB_01\u001b[0m/  \u001b[01;34mGMB_03\u001b[0m/  \u001b[01;34mGMB_05\u001b[0m/\n",
            "assigment11.ipynb  \u001b[01;34mGMB_02\u001b[0m/  \u001b[01;34mGMB_04\u001b[0m/  metawin.jpg\n"
          ],
          "name": "stdout"
        }
      ]
    },
    {
      "cell_type": "code",
      "metadata": {
        "id": "5IGm26ZzVGBs"
      },
      "source": [
        "# import the necessary packages\n",
        "from keras.models import Sequential\n",
        "from keras.layers.core import Activation\n",
        "from keras.layers.core import Flatten\n",
        "from keras.layers.core import Dense\n",
        "from keras.optimizers import Adam\n",
        "from sklearn.preprocessing import LabelBinarizer\n",
        "from sklearn.model_selection import train_test_split\n",
        "from sklearn.metrics import classification_report\n",
        "from PIL import Image\n",
        "from imutils import paths\n",
        "import numpy as np\n",
        "import os"
      ],
      "execution_count": 1,
      "outputs": []
    },
    {
      "cell_type": "code",
      "metadata": {
        "id": "0-5PXYTsVGBw"
      },
      "source": [
        "# grab all image paths in the input dataset directory, then initialize\n",
        "# our list of images and corresponding class labels\n",
        "print(\"[INFO] loading images...\")\n",
        "imagePaths = paths.list_image(\"dataset\")\n",
        "data = []\n",
        "labels = []"
      ],
      "execution_count": null,
      "outputs": []
    },
    {
      "cell_type": "code",
      "metadata": {
        "id": "9Q-KXSsGVGB0"
      },
      "source": [
        "for imagePath in imagePaths:\n",
        "\timage = Image.open(imagePath)\n",
        " \n",
        "  #preprocessing\n",
        "\n",
        "\timage = np.array(image.resize((168, 168))) / 255.0 #normalisasi\n",
        "\tdata.append(image)\n",
        "\n",
        "\t# extract the class label from the file path and update the\n",
        "\t# labels list\n",
        "\t\n",
        "\tlabel = imagePath.split(os.path.sep)[-2]\n",
        "\tlabels.append(label)"
      ],
      "execution_count": null,
      "outputs": []
    },
    {
      "cell_type": "code",
      "metadata": {
        "id": "Rzbolh88VGB2"
      },
      "source": [
        "print(labels)"
      ],
      "execution_count": null,
      "outputs": []
    },
    {
      "cell_type": "code",
      "metadata": {
        "id": "rDZJpiNeo5CZ"
      },
      "source": [
        "# encode the labels, converting them from strings to integers\n",
        "lb = LabelBinarizer()\n",
        "labels = lb.fit_transform(labels)"
      ],
      "execution_count": null,
      "outputs": []
    },
    {
      "cell_type": "code",
      "metadata": {
        "id": "BWp5Mf9Yo7W8"
      },
      "source": [
        "print(labels)"
      ],
      "execution_count": null,
      "outputs": []
    },
    {
      "cell_type": "code",
      "metadata": {
        "id": "QrUok1FYo93I"
      },
      "source": [
        "# perform a training and testing split, using 75% of the data for\n",
        "# training and 25% for evaluation\n",
        "(trainX, testX, trainY, testY) = train_test_split(np.array(data),\tnp.array(labels), test_size=0.25, shuffle=True)\n",
        "print(trainX.shape)\n",
        "print(testX.shape)"
      ],
      "execution_count": null,
      "outputs": []
    },
    {
      "cell_type": "code",
      "metadata": {
        "id": "MSxR7GLQvrUP",
        "colab": {
          "base_uri": "https://localhost:8080/"
        },
        "outputId": "da8774f0-26a5-4c2d-cdd2-d3c13327c0eb"
      },
      "source": [
        "from keras.layers import Convolution2D, MaxPool2D\n",
        "from keras.models import Sequential\n",
        "from keras.layers.core import Flatten, Dense\n",
        "\n",
        "model1 = Sequential()\n",
        "model1.add(Convolution2D(16, (5,5), activation='relu', input_shape=(168,168,3)))\n",
        "model1.add(MaxPool2D(2,2))\n",
        "model1.add(Convolution2D(16, (3,3), activation='relu'))\n",
        "model1.add(MaxPool2D(2,2))\n",
        "model1.add(Convolution2D(32, (3,3), activation='relu'))\n",
        "model1.add(MaxPool2D(2,2))\n",
        "model1.add(Convolution2D(32, (3,3), activation='relu'))\n",
        "model1.add(MaxPool2D(2,2))\n",
        "\n",
        "#fully connected layer\n",
        "model1.add(Flatten())\n",
        "model1.add(Dense(100, activation='relu'))\n",
        "model1.add(Dense(5, activation='softmax'))\n",
        "\n",
        "model1.summary()"
      ],
      "execution_count": null,
      "outputs": [
        {
          "output_type": "stream",
          "text": [
            "Model: \"sequential\"\n",
            "_________________________________________________________________\n",
            "Layer (type)                 Output Shape              Param #   \n",
            "=================================================================\n",
            "conv2d (Conv2D)              (None, 164, 164, 16)      1216      \n",
            "_________________________________________________________________\n",
            "max_pooling2d (MaxPooling2D) (None, 82, 82, 16)        0         \n",
            "_________________________________________________________________\n",
            "conv2d_1 (Conv2D)            (None, 80, 80, 16)        2320      \n",
            "_________________________________________________________________\n",
            "max_pooling2d_1 (MaxPooling2 (None, 40, 40, 16)        0         \n",
            "_________________________________________________________________\n",
            "conv2d_2 (Conv2D)            (None, 38, 38, 32)        4640      \n",
            "_________________________________________________________________\n",
            "max_pooling2d_2 (MaxPooling2 (None, 19, 19, 32)        0         \n",
            "_________________________________________________________________\n",
            "conv2d_3 (Conv2D)            (None, 17, 17, 32)        9248      \n",
            "_________________________________________________________________\n",
            "max_pooling2d_3 (MaxPooling2 (None, 8, 8, 32)          0         \n",
            "_________________________________________________________________\n",
            "flatten (Flatten)            (None, 2048)              0         \n",
            "_________________________________________________________________\n",
            "dense (Dense)                (None, 100)               204900    \n",
            "_________________________________________________________________\n",
            "dense_1 (Dense)              (None, 5)                 505       \n",
            "=================================================================\n",
            "Total params: 222,829\n",
            "Trainable params: 222,829\n",
            "Non-trainable params: 0\n",
            "_________________________________________________________________\n"
          ],
          "name": "stdout"
        }
      ]
    },
    {
      "cell_type": "code",
      "metadata": {
        "id": "ggcSdj_aVGCB",
        "scrolled": true,
        "colab": {
          "base_uri": "https://localhost:8080/"
        },
        "outputId": "107e5c7d-d06d-41d8-81e4-a18b4e10cc70"
      },
      "source": [
        "# train the model using the Adam optimizer\n",
        "print(\"[INFO] training network...\")\n",
        "opt = Adam(lr=1e-3, decay=1e-3 / 50)\n",
        "model1.compile(loss=\"categorical_crossentropy\", optimizer=opt, metrics=[\"accuracy\"])"
      ],
      "execution_count": null,
      "outputs": [
        {
          "output_type": "stream",
          "text": [
            "[INFO] training network...\n"
          ],
          "name": "stdout"
        }
      ]
    },
    {
      "cell_type": "code",
      "metadata": {
        "id": "3bbMakb0w-XZ",
        "colab": {
          "base_uri": "https://localhost:8080/"
        },
        "outputId": "4f5c2764-d4b1-4137-93a7-0e0b159bb82e"
      },
      "source": [
        "H = model1.fit(trainX, trainY, validation_data=(testX, testY), epochs=20, batch_size=32)"
      ],
      "execution_count": null,
      "outputs": [
        {
          "output_type": "stream",
          "text": [
            "Epoch 1/20\n",
            "14/14 [==============================] - 10s 727ms/step - loss: 1.5998 - accuracy: 0.2265 - val_loss: 1.5734 - val_accuracy: 0.2192\n",
            "Epoch 2/20\n",
            "14/14 [==============================] - 10s 718ms/step - loss: 1.4382 - accuracy: 0.4005 - val_loss: 1.4580 - val_accuracy: 0.3699\n",
            "Epoch 3/20\n",
            "14/14 [==============================] - 10s 721ms/step - loss: 1.2200 - accuracy: 0.4943 - val_loss: 1.2042 - val_accuracy: 0.4795\n",
            "Epoch 4/20\n",
            "14/14 [==============================] - 10s 723ms/step - loss: 1.0173 - accuracy: 0.5767 - val_loss: 1.1384 - val_accuracy: 0.5274\n",
            "Epoch 5/20\n",
            "14/14 [==============================] - 10s 724ms/step - loss: 0.9172 - accuracy: 0.6362 - val_loss: 0.9980 - val_accuracy: 0.5342\n",
            "Epoch 6/20\n",
            "14/14 [==============================] - 10s 725ms/step - loss: 0.7306 - accuracy: 0.7094 - val_loss: 0.9283 - val_accuracy: 0.6096\n",
            "Epoch 7/20\n",
            "14/14 [==============================] - 10s 725ms/step - loss: 0.6852 - accuracy: 0.7460 - val_loss: 0.8627 - val_accuracy: 0.6507\n",
            "Epoch 8/20\n",
            "14/14 [==============================] - 10s 725ms/step - loss: 0.5498 - accuracy: 0.7986 - val_loss: 0.7962 - val_accuracy: 0.7260\n",
            "Epoch 9/20\n",
            "14/14 [==============================] - 10s 723ms/step - loss: 0.4292 - accuracy: 0.8375 - val_loss: 0.6697 - val_accuracy: 0.7671\n",
            "Epoch 10/20\n",
            "14/14 [==============================] - 10s 725ms/step - loss: 0.3359 - accuracy: 0.8810 - val_loss: 0.7123 - val_accuracy: 0.7397\n",
            "Epoch 11/20\n",
            "14/14 [==============================] - 10s 724ms/step - loss: 0.3004 - accuracy: 0.8902 - val_loss: 0.8517 - val_accuracy: 0.7123\n",
            "Epoch 12/20\n",
            "14/14 [==============================] - 10s 724ms/step - loss: 0.3064 - accuracy: 0.8650 - val_loss: 0.7852 - val_accuracy: 0.7260\n",
            "Epoch 13/20\n",
            "14/14 [==============================] - 10s 724ms/step - loss: 0.2471 - accuracy: 0.8993 - val_loss: 0.8505 - val_accuracy: 0.7740\n",
            "Epoch 14/20\n",
            "14/14 [==============================] - 10s 722ms/step - loss: 0.2195 - accuracy: 0.9428 - val_loss: 0.6423 - val_accuracy: 0.8014\n",
            "Epoch 15/20\n",
            "14/14 [==============================] - 10s 717ms/step - loss: 0.1339 - accuracy: 0.9588 - val_loss: 0.8198 - val_accuracy: 0.7397\n",
            "Epoch 16/20\n",
            "14/14 [==============================] - 10s 721ms/step - loss: 0.2088 - accuracy: 0.9336 - val_loss: 0.6945 - val_accuracy: 0.7740\n",
            "Epoch 17/20\n",
            "14/14 [==============================] - 10s 721ms/step - loss: 0.1700 - accuracy: 0.9382 - val_loss: 0.6606 - val_accuracy: 0.7945\n",
            "Epoch 18/20\n",
            "14/14 [==============================] - 10s 719ms/step - loss: 0.1044 - accuracy: 0.9703 - val_loss: 0.7004 - val_accuracy: 0.7945\n",
            "Epoch 19/20\n",
            "14/14 [==============================] - 10s 724ms/step - loss: 0.0482 - accuracy: 0.9886 - val_loss: 0.7242 - val_accuracy: 0.8082\n",
            "Epoch 20/20\n",
            "14/14 [==============================] - 10s 724ms/step - loss: 0.0460 - accuracy: 0.9863 - val_loss: 0.7280 - val_accuracy: 0.8014\n"
          ],
          "name": "stdout"
        }
      ]
    },
    {
      "cell_type": "code",
      "metadata": {
        "id": "98_oXi-lcgux",
        "colab": {
          "base_uri": "https://localhost:8080/",
          "height": 590
        },
        "outputId": "e79bbc68-398e-4766-ca31-1e9792f324c0"
      },
      "source": [
        "import matplotlib.pyplot as plt\n",
        "\n",
        "print(H.history.keys())\n",
        "# summarize history for accuracy\n",
        "plt.plot(H.history['accuracy'])\n",
        "plt.plot(H.history['val_accuracy'])\n",
        "plt.title('model accuracy')\n",
        "plt.ylabel('accuracy')\n",
        "plt.xlabel('epoch')\n",
        "plt.legend(['train', 'test'], loc='upper left')\n",
        "plt.show()\n",
        "# summarize history for loss\n",
        "plt.plot(H.history['loss'])\n",
        "plt.plot(H.history['val_loss'])\n",
        "plt.title('model loss')\n",
        "plt.ylabel('loss')\n",
        "plt.xlabel('epoch')\n",
        "plt.legend(['train', 'test'], loc='upper left')\n",
        "plt.show()"
      ],
      "execution_count": null,
      "outputs": [
        {
          "output_type": "stream",
          "text": [
            "dict_keys(['loss', 'accuracy', 'val_loss', 'val_accuracy'])\n"
          ],
          "name": "stdout"
        },
        {
          "output_type": "display_data",
          "data": {
            "image/png": "[encoded data removed]",
            "text/plain": [
              "<Figure size 432x288 with 1 Axes>"
            ]
          },
          "metadata": {
            "tags": [],
            "needs_background": "light"
          }
        },
        {
          "output_type": "display_data",
          "data": {
            "image/png": "[encoded data removed]",
            "text/plain": [
              "<Figure size 432x288 with 1 Axes>"
            ]
          },
          "metadata": {
            "tags": [],
            "needs_background": "light"
          }
        }
      ]
    },
    {
      "cell_type": "code",
      "metadata": {
        "id": "lPAZkmBJVGCD",
        "colab": {
          "base_uri": "https://localhost:8080/"
        },
        "outputId": "97f9e035-0ec8-43e7-8e45-74cb9c3c78f4"
      },
      "source": [
        "# evaluate the network\n",
        "print(\"[INFO] evaluating network...\")\n",
        "predictions = model1.predict(testX, batch_size=32)\n",
        "print(classification_report(testY.argmax(axis=1),\n",
        "\tpredictions.argmax(axis=1), target_names=lb.classes_))"
      ],
      "execution_count": null,
      "outputs": [
        {
          "output_type": "stream",
          "text": [
            "[INFO] evaluating network...\n",
            "              precision    recall  f1-score   support\n",
            "\n",
            "      GMB_01       0.86      0.63      0.73        38\n",
            "      GMB_02       0.78      0.89      0.83        28\n",
            "      GMB_03       0.86      0.79      0.83        24\n",
            "      GMB_04       0.77      0.92      0.84        26\n",
            "      GMB_05       0.76      0.83      0.79        30\n",
            "\n",
            "    accuracy                           0.80       146\n",
            "   macro avg       0.81      0.81      0.80       146\n",
            "weighted avg       0.81      0.80      0.80       146\n",
            "\n"
          ],
          "name": "stdout"
        }
      ]
    },
    {
      "cell_type": "code",
      "metadata": {
        "id": "D3XJJ4NLpYI1"
      },
      "source": [
        "model1.save('nnmodel_scene')"
      ],
      "execution_count": null,
      "outputs": []
    },
    {
      "cell_type": "code",
      "metadata": {
        "id": "OWZ6JUGXpbYq"
      },
      "source": [
        "import cv2\n",
        "import matplotlib.pyplot as plt\n",
        "image1='IMG_20200814_131553_HDR.jpg'"
      ],
      "execution_count": 8,
      "outputs": []
    },
    {
      "cell_type": "code",
      "metadata": {
        "id": "1KT4z4UTp09F"
      },
      "source": [
        "img_array = cv2.imread(image1)\n",
        "plt.imshow(img_array)\n",
        "plt.show()\n",
        "# print(type(img_array))"
      ],
      "execution_count": null,
      "outputs": []
    },
    {
      "cell_type": "code",
      "metadata": {
        "id": "-sA9pOZ3qI4c"
      },
      "source": [
        "image_testing = Image.open('IMG_20200814_131553_HDR.jpg')\n",
        "image_testing = np.array(image_testing.resize((168, 168))) / 255.0\n",
        "image_testing.shape"
      ],
      "execution_count": null,
      "outputs": []
    },
    {
      "cell_type": "code",
      "metadata": {
        "id": "N7lUIP7tqS-U"
      },
      "source": [
        "image_testing = np.expand_dims(image_testing, axis=0)\n",
        "print(image_testing.shape)"
      ],
      "execution_count": null,
      "outputs": []
    },
    {
      "cell_type": "code",
      "metadata": {
        "id": "qL66nfOcVGCT",
        "colab": {
          "base_uri": "https://localhost:8080/"
        },
        "outputId": "e6a451ea-ba12-4b39-c032-52953e54a82e"
      },
      "source": [
        "image_testing = np.expand_dims(image_testing, axis=0)\n",
        "print(image_testing.shape)"
      ],
      "execution_count": null,
      "outputs": [
        {
          "output_type": "stream",
          "text": [
            "(1, 168, 168, 3)\n"
          ],
          "name": "stdout"
        }
      ]
    }
  ]
}