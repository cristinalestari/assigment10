{
  "nbformat": 4,
  "nbformat_minor": 0,
  "metadata": {
    "colab": {
      "name": "assignment13.ipynb",
      "provenance": [],
      "mount_file_id": "1b6ZUZ6ToLts58Fjsub9DQzLnIlkSHzEb",
      "authorship_tag": "ABX9TyMqRiaDkQqk0cqz8p0LLEBn",
      "include_colab_link": true
    },
    "kernelspec": {
      "name": "python3",
      "display_name": "Python 3"
    }
  },
  "cells": [
    {
      "cell_type": "markdown",
      "metadata": {
        "id": "view-in-github",
        "colab_type": "text"
      },
      "source": [
        "<a href=\"https://colab.research.google.com/github/cristinalestari/assignment/blob/main/assignment13.ipynb\" target=\"_parent\"><img src=\"https://colab.research.google.com/assets/colab-badge.svg\" alt=\"Open In Colab\"/></a>"
      ]
    },
    {
      "cell_type": "markdown",
      "metadata": {
        "id": "OnEYw6UH7X4J"
      },
      "source": [
        "Cristina Lestari 1101190442\r\n"
      ]
    },
    {
      "cell_type": "markdown",
      "metadata": {
        "id": "p9hE5-ue-VDH"
      },
      "source": [
        "**grafik 1 frekuensi 1800MHz**"
      ]
    },
    {
      "cell_type": "code",
      "metadata": {
        "id": "orKS95sd9NoK"
      },
      "source": [
        "import numpy as np\r\n",
        "import matplotlib.pyplot as plt"
      ],
      "execution_count": 1,
      "outputs": []
    },
    {
      "cell_type": "code",
      "metadata": {
        "id": "z7t6FdiO9msK"
      },
      "source": [
        "def cos(frek,tipe,ht,hr,d):\r\n",
        "    #menghitung c1 dan c2 berdasarkan fc\r\n",
        "    if frek in range(150,1501):\r\n",
        "        Ca=69.55\r\n",
        "        Cb=26.16\r\n",
        "    elif frek in range(1501,2001):\r\n",
        "        Ca=46.3\r\n",
        "        Cb=33.9\r\n",
        "    \r\n",
        "    #menghitung cm\r\n",
        "    if tipe=='urban' :\r\n",
        "        Cm=0\r\n",
        "    elif tipe=='suburban' :\r\n",
        "        Cm= -2*((np.log10((frek/28)**2))-5.4)\r\n",
        "    elif tipe=='open' :\r\n",
        "        Cm= -4.78*(np.log10(frek))+18.33*(np.log10(frek))-40.94\r\n",
        "    else :\r\n",
        "        Cm='tipe salah'\r\n",
        "    #menghitung a(hr)\r\n",
        "    ahr = (1.1*np.log10(frek)-0.7)*hr-(1.56*np.log10(frek)-1.8)\r\n",
        "\r\n",
        "    #menghitung pathloss\r\n",
        "    Lp = Ca+(Cb*np.log10(frek))-(13.83*np.log(ht))-ahr+((44.9-6.55*np.log10(ht))*np.log10(d))-Cm\r\n",
        "    \r\n",
        "    return Lp"
      ],
      "execution_count": 2,
      "outputs": []
    },
    {
      "cell_type": "code",
      "metadata": {
        "id": "93Nw8uec9qH2"
      },
      "source": [
        "f=1800 #MHz\r\n",
        "loc='urban'\r\n",
        "loc2='suburban'\r\n",
        "loc3='open'\r\n",
        "tower=80 #m\r\n",
        "user=1.5 #m\r\n",
        "dmin=200 #m\r\n",
        "dmax=700 #m\r\n",
        "N=200 #titik\r\n",
        "d=np.random.randint(dmin,dmax,N)"
      ],
      "execution_count": 3,
      "outputs": []
    },
    {
      "cell_type": "code",
      "metadata": {
        "colab": {
          "base_uri": "https://localhost:8080/"
        },
        "id": "YLTWMwxI9t4p",
        "outputId": "4fd3b20b-c1b0-401f-9ec7-b0ac30a63d01"
      },
      "source": [
        "print(d)"
      ],
      "execution_count": 4,
      "outputs": [
        {
          "output_type": "stream",
          "text": [
            "[318 305 569 528 558 270 676 531 543 583 518 597 656 619 343 416 202 672\n",
            " 637 230 566 233 492 608 612 309 223 217 666 333 503 251 667 218 270 530\n",
            " 420 694 687 433 397 388 554 513 342 677 585 572 608 609 293 571 580 444\n",
            " 691 474 218 530 315 507 489 266 681 543 554 200 623 330 386 583 564 291\n",
            " 468 633 698 430 451 505 251 523 343 432 594 515 425 476 413 475 293 309\n",
            " 457 641 288 472 586 208 404 459 248 698 539 502 405 456 447 336 537 350\n",
            " 454 423 542 208 505 415 496 289 495 355 517 247 628 556 614 389 425 409\n",
            " 663 634 666 250 452 374 589 609 320 643 270 699 527 560 361 270 465 574\n",
            " 499 431 566 286 304 274 394 640 218 636 518 309 648 693 318 349 688 420\n",
            " 608 419 390 230 532 653 339 699 481 532 399 565 445 380 325 344 487 637\n",
            " 695 407 368 316 694 344 668 221 413 688 420 567 680 317 372 443 362 272\n",
            " 632 414]\n"
          ],
          "name": "stdout"
        }
      ]
    },
    {
      "cell_type": "code",
      "metadata": {
        "id": "316hZ9SF9wus"
      },
      "source": [
        "LpUrban=cos(f,loc,tower,user,d)\r\n",
        "LpSuburban=cos(f,loc2,tower,user,d)\r\n",
        "LpOpen=cos(f,loc3,tower,user,d)"
      ],
      "execution_count": 5,
      "outputs": []
    },
    {
      "cell_type": "code",
      "metadata": {
        "id": "eI-YxAIw95D_"
      },
      "source": [
        "d_sort=d[np.argsort(d)]\r\n",
        "Urban_sort=LpUrban[np.argsort(d)]\r\n",
        "Suburban_sort=LpSuburban[np.argsort(d)]\r\n",
        "Open_sort=LpOpen[np.argsort(d)]"
      ],
      "execution_count": 6,
      "outputs": []
    },
    {
      "cell_type": "markdown",
      "metadata": {
        "id": "4Tsiv_Th-iIK"
      },
      "source": [
        "**kurva frekuensi 1800MHz**"
      ]
    },
    {
      "cell_type": "code",
      "metadata": {
        "colab": {
          "base_uri": "https://localhost:8080/",
          "height": 295
        },
        "id": "XY3gM0VX97r4",
        "outputId": "a7b8ade2-3e0a-4c52-cc00-3ef758895267"
      },
      "source": [
        "plt.figure()\r\n",
        "plt.plot(d_sort,Urban_sort,'r-', label='Urban')\r\n",
        "plt.plot(d_sort,Suburban_sort,'k-', label='Suburban')\r\n",
        "plt.plot(d_sort,Open_sort,'g-', label='Open')\r\n",
        "plt.legend()\r\n",
        "plt.title('Frekuensi 1800 MHz')\r\n",
        "plt.xlabel('Jarak (m)')\r\n",
        "plt.ylabel('Path Loss (dB)')\r\n",
        "plt.show()"
      ],
      "execution_count": 7,
      "outputs": [
        {
          "output_type": "display_data",
          "data": {
            "image/png": "[encoded data removed]",
            "text/plain": [
              "<Figure size 432x288 with 1 Axes>"
            ]
          },
          "metadata": {
            "tags": [],
            "needs_background": "light"
          }
        }
      ]
    },
    {
      "cell_type": "markdown",
      "metadata": {
        "id": "QAd6ogZm-zs4"
      },
      "source": [
        "**grafik 2 urban**"
      ]
    },
    {
      "cell_type": "code",
      "metadata": {
        "id": "IDr8WChk-AWi"
      },
      "source": [
        "f=700 #MHz\r\n",
        "f2=900 #MHz\r\n",
        "f3=1800 #MHz\r\n",
        "loc='urban'\r\n",
        "tower=80 #m\r\n",
        "user=1.5 #m\r\n",
        "dmin=200 #m\r\n",
        "dmax=700 #m\r\n",
        "N=200 #titik\r\n",
        "d=np.random.randint(dmin,dmax,N)"
      ],
      "execution_count": 8,
      "outputs": []
    },
    {
      "cell_type": "code",
      "metadata": {
        "id": "fdxRh9lZ-D6h"
      },
      "source": [
        "LpUrban=cos(f,loc,tower,user,d)\r\n",
        "LpUrban2=cos(f2,loc,tower,user,d)\r\n",
        "LpUrban3=cos(f3,loc,tower,user,d)"
      ],
      "execution_count": 9,
      "outputs": []
    },
    {
      "cell_type": "code",
      "metadata": {
        "id": "uunZ5EqG-Gc1"
      },
      "source": [
        "d_sort=d[np.argsort(d)]\r\n",
        "Urban_sort=LpUrban[np.argsort(d)]\r\n",
        "Urban2_sort=LpUrban2[np.argsort(d)]\r\n",
        "Urban3_sort=LpUrban3[np.argsort(d)]"
      ],
      "execution_count": 10,
      "outputs": []
    },
    {
      "cell_type": "markdown",
      "metadata": {
        "id": "NhLXIirf_CfL"
      },
      "source": [
        "**kurva urban**"
      ]
    },
    {
      "cell_type": "code",
      "metadata": {
        "colab": {
          "base_uri": "https://localhost:8080/",
          "height": 295
        },
        "id": "01xsR703-Io0",
        "outputId": "7568dfd3-3bb2-440c-a11b-51b903f2be28"
      },
      "source": [
        "plt.figure()\r\n",
        "plt.plot(d_sort,Urban_sort,'r-', label='700 Mhz')\r\n",
        "plt.plot(d_sort,Urban2_sort,'k-', label='900 Mhz')\r\n",
        "plt.plot(d_sort,Urban3_sort,'g-', label='1800 Mhz')\r\n",
        "plt.legend()\r\n",
        "plt.title('Model Urban')\r\n",
        "plt.xlabel('Jarak (m)')\r\n",
        "plt.ylabel('Path Loss (dB)')\r\n",
        "plt.show()"
      ],
      "execution_count": 11,
      "outputs": [
        {
          "output_type": "display_data",
          "data": {
            "image/png": "[encoded data removed]",
            "text/plain": [
              "<Figure size 432x288 with 1 Axes>"
            ]
          },
          "metadata": {
            "tags": [],
            "needs_background": "light"
          }
        }
      ]
    },
    {
      "cell_type": "code",
      "metadata": {
        "id": "RC3k0pIB-Loi"
      },
      "source": [
        ""
      ],
      "execution_count": null,
      "outputs": []
    }
  ]
}