{
  "nbformat": 4,
  "nbformat_minor": 0,
  "metadata": {
    "colab": {
      "name": "LPB RTB Tubes SKO Cristina",
      "provenance": [],
      "authorship_tag": "ABX9TyM0lr4Pno8wT5zOw82RQ+FW",
      "include_colab_link": true
    },
    "kernelspec": {
      "name": "python3",
      "display_name": "Python 3"
    },
    "language_info": {
      "name": "python"
    }
  },
  "cells": [
    {
      "cell_type": "markdown",
      "metadata": {
        "id": "view-in-github",
        "colab_type": "text"
      },
      "source": [
        "<a href=\"https://colab.research.google.com/github/cristinalestari/assignment/blob/main/LPB_RTB_Tubes_SKO_Cristina.ipynb\" target=\"_parent\"><img src=\"https://colab.research.google.com/assets/colab-badge.svg\" alt=\"Open In Colab\"/></a>"
      ]
    },
    {
      "cell_type": "markdown",
      "source": [
        "#Tubes SKO\n",
        " **Cristina Lestari (1101190442)**"
      ],
      "metadata": {
        "id": "6-C4vntNBRVQ"
      }
    },
    {
      "cell_type": "markdown",
      "source": [
        "# PERHITUNGAN RTB"
      ],
      "metadata": {
        "id": "RJwLsPgTyfQT"
      }
    },
    {
      "cell_type": "code",
      "source": [
        "import numpy as np\n",
        "import matplotlib.pyplot as plt\n",
        "from math import log10, sqrt"
      ],
      "metadata": {
        "id": "GCubllkBzo_H"
      },
      "execution_count": 2,
      "outputs": []
    },
    {
      "cell_type": "code",
      "source": [
        "##Redaman kanal\n",
        "L = 12 #km\n",
        "hspl = 2 #km\n",
        "disp_m = 7e-12 #s/km.nm\n",
        "alpha_f = 0.3 #dB/km"
      ],
      "metadata": {
        "id": "SVGdlqr21-vQ"
      },
      "execution_count": 3,
      "outputs": []
    },
    {
      "cell_type": "code",
      "source": [
        "##Transmitter\n",
        "ptx_db = 0 #mw\n",
        "spektral = 1 #nm)\n",
        "t_tx = 2e-13 #s\n",
        "mod_NRZ = 0.7 #NRZ\n",
        "mod_RZ = 0.35 #RZ\n",
        "Br = 1e6 #2.5Gbps\n",
        "tb = 1/Br #s"
      ],
      "metadata": {
        "id": "vfyaFIOu7Li7"
      },
      "execution_count": 5,
      "outputs": []
    },
    {
      "cell_type": "code",
      "source": [
        "##Pengirim\n",
        "sensitivitas = -28 #dBm\n",
        "t_rx = 2e-13 #ps"
      ],
      "metadata": {
        "id": "lETP14TS9nvz"
      },
      "execution_count": 6,
      "outputs": []
    },
    {
      "cell_type": "code",
      "source": [
        "##Redaman\n",
        "n_c = 2\n",
        "alpha_c = 1 #1dB/titik\n",
        "n_sp = (L/hspl)-1\n",
        "alpha_sp = 0.3 #dB/titik\n",
        "ms = 3 #dB"
      ],
      "metadata": {
        "id": "SAqvw3ga9q0m"
      },
      "execution_count": 7,
      "outputs": []
    },
    {
      "cell_type": "markdown",
      "source": [
        "# Link Power Budget"
      ],
      "metadata": {
        "id": "bZOmug3qjDcB"
      }
    },
    {
      "cell_type": "markdown",
      "source": [
        "Rumus:\n",
        "\n",
        "$ \\alpha_T= 2\\alpha_c+N_{sp}\\alpha_{sp}+L\\alpha_f +M_s $\n",
        "\n"
      ],
      "metadata": {
        "id": "GIkIrXg2if9p"
      }
    },
    {
      "cell_type": "code",
      "source": [
        "alpha_t = n_c*alpha_c+n_sp*alpha_sp+L*alpha_f+ms\n",
        "print(\"Redaman Kabel \",alpha_t, \"dB\")"
      ],
      "metadata": {
        "colab": {
          "base_uri": "https://localhost:8080/"
        },
        "id": "jueGc30YifnW",
        "outputId": "580b6714-7860-405a-939f-95e84c417b00"
      },
      "execution_count": 8,
      "outputs": [
        {
          "output_type": "stream",
          "name": "stdout",
          "text": [
            "Redaman Kabel  10.1 dB\n"
          ]
        }
      ]
    },
    {
      "cell_type": "code",
      "source": [
        "Prx = ptx_db-alpha_t"
      ],
      "metadata": {
        "id": "9kMcs3Y0k8hW"
      },
      "execution_count": 9,
      "outputs": []
    },
    {
      "cell_type": "code",
      "source": [
        "Prx"
      ],
      "metadata": {
        "colab": {
          "base_uri": "https://localhost:8080/"
        },
        "id": "cUVgLBA3lBXn",
        "outputId": "9202cad0-3cdd-431e-9e0a-381c63d258a0"
      },
      "execution_count": 10,
      "outputs": [
        {
          "output_type": "execute_result",
          "data": {
            "text/plain": [
              "-10.1"
            ]
          },
          "metadata": {},
          "execution_count": 10
        }
      ]
    },
    {
      "cell_type": "code",
      "source": [
        "if Prx > sensitivitas:\n",
        "  print(\"LPB terpenuhi\")\n",
        "else:\n",
        "    print(\"GAGAL. Hitung ulang!\")"
      ],
      "metadata": {
        "colab": {
          "base_uri": "https://localhost:8080/"
        },
        "id": "qF0-xsh5lDE5",
        "outputId": "0d730b65-4b77-438d-8ae5-8d6623306a95"
      },
      "execution_count": 19,
      "outputs": [
        {
          "output_type": "stream",
          "name": "stdout",
          "text": [
            "LPB terpenuhi\n"
          ]
        }
      ]
    },
    {
      "cell_type": "markdown",
      "source": [
        "# Rise Time Budget "
      ],
      "metadata": {
        "id": "9Eda6DfjOb12"
      }
    },
    {
      "cell_type": "markdown",
      "source": [
        "Rumus:\n",
        "\n",
        "$ t_{sys}=\\sqrt{t_{tx}^2+t_{mat}^2+t_{mod}^2+t_{wg}^2+t_{rx}} $"
      ],
      "metadata": {
        "id": "Xas8GC9fOhJL"
      }
    },
    {
      "cell_type": "code",
      "source": [
        "t_wg = 0 \n",
        "t_mod = 0 #Single mode\n",
        "t_sys = np.sqrt(t_tx**2+t_mat**2+t_mod**2+t_wg**2+t_rx**2)"
      ],
      "metadata": {
        "id": "PsXmR6D2OaJE"
      },
      "execution_count": 15,
      "outputs": []
    },
    {
      "cell_type": "code",
      "source": [
        "t_sys"
      ],
      "metadata": {
        "colab": {
          "base_uri": "https://localhost:8080/"
        },
        "id": "d8W4NxaRQRd5",
        "outputId": "a4711f10-4dc9-4e8a-ac4e-dee7f645d5b6"
      },
      "execution_count": 16,
      "outputs": [
        {
          "output_type": "execute_result",
          "data": {
            "text/plain": [
              "8.400047618912646e-11"
            ]
          },
          "metadata": {},
          "execution_count": 16
        }
      ]
    },
    {
      "cell_type": "code",
      "source": [
        "if (tb*mod_NRZ > t_sys) & (tb*mod_RZ > t_sys):\n",
        "    print(\"RTB terpenuhi\")\n",
        "elif tb*mod_NRZ > t_sys:\n",
        "    print(\"RTB untuk NRZ terpenuhi\")\n",
        "elif tb*mod_RZ > t_sys:\n",
        "    print(\"RTB untuk RZ terpenuhi\")\n",
        "else:\n",
        "    print(\"GAGAL. Hitung Ulang!\")"
      ],
      "metadata": {
        "colab": {
          "base_uri": "https://localhost:8080/"
        },
        "id": "0-lNoiAylVOv",
        "outputId": "0056bbd7-f9ac-48c6-a38e-6ade1694584c"
      },
      "execution_count": 18,
      "outputs": [
        {
          "output_type": "stream",
          "name": "stdout",
          "text": [
            "RTB terpenuhi\n"
          ]
        }
      ]
    }
  ]
}